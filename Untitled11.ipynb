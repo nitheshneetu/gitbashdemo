{
 "cells": [
  {
   "cell_type": "code",
   "execution_count": 20,
   "id": "415887bf",
   "metadata": {},
   "outputs": [
    {
     "ename": "IndentationError",
     "evalue": "unexpected indent (1091871642.py, line 6)",
     "output_type": "error",
     "traceback": [
      "\u001b[1;36m  Cell \u001b[1;32mIn[20], line 6\u001b[1;36m\u001b[0m\n\u001b[1;33m    linewidth = 3,\u001b[0m\n\u001b[1;37m    ^\u001b[0m\n\u001b[1;31mIndentationError\u001b[0m\u001b[1;31m:\u001b[0m unexpected indent\n"
     ]
    }
   ],
   "source": [
    "import matplotlib.pyplot as plt\n",
    "x = [1,2,3,4,5,6]\n",
    "y = [2,4,1,5,2,6]\n",
    "plt.plot(x,y,color = 'green',)\n",
    "linestyle = 'dashed'\n",
    " linewidth = 3,\n",
    "        "
   ]
  },
  {
   "cell_type": "code",
   "execution_count": 19,
   "id": "9087ffd0",
   "metadata": {},
   "outputs": [],
   "source": [
    "\n",
    "        linewidth = 3,\n",
    "        marker = 'o'\n",
    "        markerfacecolor = 'blue'\n",
    "        markersize = 12"
   ]
  },
  {
   "cell_type": "code",
   "execution_count": null,
   "id": "676ba94e",
   "metadata": {},
   "outputs": [],
   "source": []
  }
 ],
 "metadata": {
  "kernelspec": {
   "display_name": "Python 3 (ipykernel)",
   "language": "python",
   "name": "python3"
  },
  "language_info": {
   "codemirror_mode": {
    "name": "ipython",
    "version": 3
   },
   "file_extension": ".py",
   "mimetype": "text/x-python",
   "name": "python",
   "nbconvert_exporter": "python",
   "pygments_lexer": "ipython3",
   "version": "3.11.4"
  }
 },
 "nbformat": 4,
 "nbformat_minor": 5
}
