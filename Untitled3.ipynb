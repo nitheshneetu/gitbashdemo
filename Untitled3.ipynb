{
 "cells": [
  {
   "cell_type": "code",
   "execution_count": 18,
   "id": "c6f822fa",
   "metadata": {},
   "outputs": [
    {
     "data": {
      "text/plain": [
       "(['Bread', 'Milk', 'Eggs', 'Butter', 'Cocoa'],\n",
       " [78, 47, 96, 53, 34],\n",
       " '/n',\n",
       " [1, 2, 3.0, 'Text', True, (3+2j)])"
      ]
     },
     "execution_count": 18,
     "metadata": {},
     "output_type": "execute_result"
    }
   ],
   "source": [
    "item_list = [ 'Bread', 'Milk', 'Eggs', 'Butter', 'Cocoa' ]\n",
    "student_marks = [ 78, 47, 96, 53, 34 ]\n",
    "hetero_list = [ 1, 2, 3.0,'Text', True,3+2j ]\n",
    "item_list,student_marks,\"/n\", hetero_list \n"
   ]
  },
  {
   "cell_type": "code",
   "execution_count": 13,
   "id": "6d7dcdf0",
   "metadata": {},
   "outputs": [
    {
     "name": "stdout",
     "output_type": "stream",
     "text": [
      "[83, 47, 96, 55, 34]\n",
      "[83, 52, 96, 55, 34]\n",
      "[83, 52, 101, 55, 34]\n",
      "[83, 52, 101, 60, 34]\n",
      "[83, 52, 101, 60, 39]\n"
     ]
    }
   ],
   "source": [
    "student_marks = [78, 47, 96, 55, 34]\n",
    "for i in range(len(student_marks)):\n",
    "    student_marks[i]+=5\n",
    "    print(student_marks)"
   ]
  },
  {
   "cell_type": "code",
   "execution_count": 20,
   "id": "1c4f85c5",
   "metadata": {},
   "outputs": [
    {
     "ename": "TypeError",
     "evalue": "unsupported operand type(s) for +: 'types.GenericAlias' and 'int'",
     "output_type": "error",
     "traceback": [
      "\u001b[1;31m---------------------------------------------------------------------------\u001b[0m",
      "\u001b[1;31mTypeError\u001b[0m                                 Traceback (most recent call last)",
      "File \u001b[1;32m<timed exec>:5\u001b[0m\n",
      "\u001b[1;31mTypeError\u001b[0m: unsupported operand type(s) for +: 'types.GenericAlias' and 'int'"
     ]
    }
   ],
   "source": [
    "%%time\n",
    "list1 = list(range(1,1000000))\n",
    "list2 = list(range(2,1000001))\n",
    "list3 = []\n",
    "for i in range(len(list1)):\n",
    "    list3.append(list[i]+list2[i])\n",
    "    \n",
    "    \n",
    "    "
   ]
  },
  {
   "cell_type": "code",
   "execution_count": null,
   "id": "65cedfd7",
   "metadata": {},
   "outputs": [],
   "source": [
    "import numpy as np\n",
    "    student_marks_arr = np.array([78, 92, 36, 64, 89])\n",
    "    student_marks_arr\n",
    "    "
   ]
  },
  {
   "cell_type": "code",
   "execution_count": null,
   "id": "fca79b06",
   "metadata": {},
   "outputs": [],
   "source": []
  },
  {
   "cell_type": "code",
   "execution_count": null,
   "id": "b2dbf731",
   "metadata": {},
   "outputs": [],
   "source": []
  },
  {
   "cell_type": "code",
   "execution_count": null,
   "id": "dd384b66",
   "metadata": {},
   "outputs": [],
   "source": []
  }
 ],
 "metadata": {
  "kernelspec": {
   "display_name": "Python 3 (ipykernel)",
   "language": "python",
   "name": "python3"
  },
  "language_info": {
   "codemirror_mode": {
    "name": "ipython",
    "version": 3
   },
   "file_extension": ".py",
   "mimetype": "text/x-python",
   "name": "python",
   "nbconvert_exporter": "python",
   "pygments_lexer": "ipython3",
   "version": "3.11.4"
  }
 },
 "nbformat": 4,
 "nbformat_minor": 5
}
