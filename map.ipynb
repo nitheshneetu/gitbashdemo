{
 "cells": [
  {
   "cell_type": "code",
   "execution_count": 3,
   "id": "d0d28f2e",
   "metadata": {},
   "outputs": [],
   "source": [
    "def starts_with_A(s):\n",
    "    return s[0]==\"A\""
   ]
  },
  {
   "cell_type": "code",
   "execution_count": 4,
   "id": "d14fd63c",
   "metadata": {},
   "outputs": [],
   "source": [
    "fruit=[\"Apple\",\"Banana\",\"Pear\",\"Apricot\",\"Orange\"]\n",
    "map_object=map(starts_with_A,fruit)"
   ]
  },
  {
   "cell_type": "code",
   "execution_count": 5,
   "id": "d70e68cb",
   "metadata": {},
   "outputs": [
    {
     "name": "stdout",
     "output_type": "stream",
     "text": [
      "[True, False, False, True, False]\n"
     ]
    }
   ],
   "source": [
    "print(list(map_object))"
   ]
  },
  {
   "cell_type": "code",
   "execution_count": 6,
   "id": "b0659b40",
   "metadata": {},
   "outputs": [],
   "source": [
    "fruit=[\"Apple\",\"Banana\",\"Pear\",\"Apricot\",\"Orange\"]\n",
    "map_object=map(lambda s:s[0]==\"A\",fruit)"
   ]
  },
  {
   "cell_type": "code",
   "execution_count": 7,
   "id": "b67141f1",
   "metadata": {},
   "outputs": [
    {
     "name": "stdout",
     "output_type": "stream",
     "text": [
      "[True, False, False, True, False]\n"
     ]
    }
   ],
   "source": [
    "print(list(map_object))"
   ]
  },
  {
   "cell_type": "code",
   "execution_count": null,
   "id": "2ac20884",
   "metadata": {},
   "outputs": [],
   "source": []
  }
 ],
 "metadata": {
  "kernelspec": {
   "display_name": "Python 3 (ipykernel)",
   "language": "python",
   "name": "python3"
  },
  "language_info": {
   "codemirror_mode": {
    "name": "ipython",
    "version": 3
   },
   "file_extension": ".py",
   "mimetype": "text/x-python",
   "name": "python",
   "nbconvert_exporter": "python",
   "pygments_lexer": "ipython3",
   "version": "3.11.4"
  }
 },
 "nbformat": 4,
 "nbformat_minor": 5
}
