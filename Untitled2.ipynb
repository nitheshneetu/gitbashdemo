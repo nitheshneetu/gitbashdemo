{
 "cells": [
  {
   "cell_type": "code",
   "execution_count": 1,
   "id": "6cc417d9",
   "metadata": {},
   "outputs": [],
   "source": [
    "import pandas as pd"
   ]
  },
  {
   "cell_type": "code",
   "execution_count": 2,
   "id": "5c9a3448",
   "metadata": {},
   "outputs": [],
   "source": [
    "import numpy as np"
   ]
  },
  {
   "cell_type": "code",
   "execution_count": 3,
   "id": "5b820ecb",
   "metadata": {},
   "outputs": [],
   "source": [
    "Series_A = pd.Series([10,20,30,40,50])\n",
    "Series_B = pd.Series([40,50,60,70,80])"
   ]
  },
  {
   "cell_type": "code",
   "execution_count": 4,
   "id": "3175e5c2",
   "metadata": {},
   "outputs": [],
   "source": [
    "intersect = np.intersect1d(Series_A,Series_B)\n",
    "union = pd.Series(np.union1d(Series_A,Series_B))\n",
    "notcommonseries = union[~union.isin(intersect)]"
   ]
  },
  {
   "cell_type": "code",
   "execution_count": 5,
   "id": "1b614a03",
   "metadata": {},
   "outputs": [
    {
     "name": "stdout",
     "output_type": "stream",
     "text": [
      "0    10\n",
      "1    20\n",
      "2    30\n",
      "5    60\n",
      "6    70\n",
      "7    80\n",
      "dtype: int64\n"
     ]
    }
   ],
   "source": [
    "print(notcommonseries)"
   ]
  },
  {
   "cell_type": "code",
   "execution_count": 6,
   "id": "1acf8f2a",
   "metadata": {},
   "outputs": [
    {
     "name": "stdout",
     "output_type": "stream",
     "text": [
      "10\n"
     ]
    }
   ],
   "source": [
    "print(min(Series_A))"
   ]
  },
  {
   "cell_type": "code",
   "execution_count": 10,
   "id": "db358329",
   "metadata": {},
   "outputs": [
    {
     "name": "stdout",
     "output_type": "stream",
     "text": [
      "50\n"
     ]
    }
   ],
   "source": [
    "print(max(Series_A))"
   ]
  },
  {
   "cell_type": "code",
   "execution_count": null,
   "id": "5b95c997",
   "metadata": {},
   "outputs": [],
   "source": []
  },
  {
   "cell_type": "code",
   "execution_count": 11,
   "id": "24a17f3a",
   "metadata": {},
   "outputs": [
    {
     "name": "stdout",
     "output_type": "stream",
     "text": [
      "300\n"
     ]
    }
   ],
   "source": [
    "print(sum(Series_B))"
   ]
  },
  {
   "cell_type": "code",
   "execution_count": 12,
   "id": "9b4f188e",
   "metadata": {},
   "outputs": [
    {
     "name": "stdout",
     "output_type": "stream",
     "text": [
      "30.0\n"
     ]
    }
   ],
   "source": [
    "print(np.mean(Series_A))"
   ]
  },
  {
   "cell_type": "code",
   "execution_count": null,
   "id": "16a08f76",
   "metadata": {},
   "outputs": [],
   "source": [
    "print(np.median(Sr[]))"
   ]
  }
 ],
 "metadata": {
  "kernelspec": {
   "display_name": "Python 3 (ipykernel)",
   "language": "python",
   "name": "python3"
  },
  "language_info": {
   "codemirror_mode": {
    "name": "ipython",
    "version": 3
   },
   "file_extension": ".py",
   "mimetype": "text/x-python",
   "name": "python",
   "nbconvert_exporter": "python",
   "pygments_lexer": "ipython3",
   "version": "3.11.4"
  }
 },
 "nbformat": 4,
 "nbformat_minor": 5
}
