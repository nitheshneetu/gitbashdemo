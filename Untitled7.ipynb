{
 "cells": [
  {
   "cell_type": "code",
   "execution_count": 10,
   "id": "d40742f1",
   "metadata": {},
   "outputs": [],
   "source": [
    "import numpy as np"
   ]
  },
  {
   "cell_type": "code",
   "execution_count": 11,
   "id": "f24aba0d",
   "metadata": {},
   "outputs": [],
   "source": [
    "day_number = np.arange(1,11)"
   ]
  },
  {
   "cell_type": "code",
   "execution_count": 12,
   "id": "a3060f1e",
   "metadata": {},
   "outputs": [],
   "source": [
    "steps_walked = [ 4335,9552,7332,4504,5335,7552,8332,6504,8965,7689 ]"
   ]
  },
  {
   "cell_type": "code",
   "execution_count": 26,
   "id": "d75e2922",
   "metadata": {},
   "outputs": [],
   "source": [
    "arr = np.array( [day_number,steps_walked] )"
   ]
  },
  {
   "cell_type": "code",
   "execution_count": 28,
   "id": "f1c76e78",
   "metadata": {},
   "outputs": [],
   "source": [
    "arr=arr.T"
   ]
  },
  {
   "cell_type": "code",
   "execution_count": 29,
   "id": "ada3d713",
   "metadata": {},
   "outputs": [
    {
     "data": {
      "text/plain": [
       "array([[   1, 4335],\n",
       "       [   2, 9552],\n",
       "       [   3, 7332],\n",
       "       [   4, 4504],\n",
       "       [   5, 5335],\n",
       "       [   6, 7552],\n",
       "       [   7, 8332],\n",
       "       [   8, 6504],\n",
       "       [   9, 8965],\n",
       "       [  10, 7689]])"
      ]
     },
     "execution_count": 29,
     "metadata": {},
     "output_type": "execute_result"
    }
   ],
   "source": [
    "arr"
   ]
  },
  {
   "cell_type": "code",
   "execution_count": null,
   "id": "e8e075de",
   "metadata": {},
   "outputs": [],
   "source": []
  },
  {
   "cell_type": "code",
   "execution_count": null,
   "id": "d852d42d",
   "metadata": {},
   "outputs": [],
   "source": []
  },
  {
   "cell_type": "code",
   "execution_count": null,
   "id": "60a42bfd",
   "metadata": {},
   "outputs": [],
   "source": []
  },
  {
   "cell_type": "code",
   "execution_count": null,
   "id": "8e597e98",
   "metadata": {},
   "outputs": [],
   "source": []
  }
 ],
 "metadata": {
  "kernelspec": {
   "display_name": "Python 3 (ipykernel)",
   "language": "python",
   "name": "python3"
  },
  "language_info": {
   "codemirror_mode": {
    "name": "ipython",
    "version": 3
   },
   "file_extension": ".py",
   "mimetype": "text/x-python",
   "name": "python",
   "nbconvert_exporter": "python",
   "pygments_lexer": "ipython3",
   "version": "3.11.4"
  }
 },
 "nbformat": 4,
 "nbformat_minor": 5
}
