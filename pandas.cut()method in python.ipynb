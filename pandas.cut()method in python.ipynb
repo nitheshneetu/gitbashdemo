{
 "cells": [
  {
   "cell_type": "code",
   "execution_count": 2,
   "id": "b9d9062c",
   "metadata": {},
   "outputs": [
    {
     "name": "stdout",
     "output_type": "stream",
     "text": [
      "   number       bins\n",
      "0      87  (80, 100]\n",
      "1      23   (20, 40]\n",
      "2      12    (1, 20]\n",
      "3      46   (40, 60]\n",
      "4       8    (1, 20]\n",
      "5      75   (60, 80]\n",
      "6      64   (60, 80]\n",
      "7      12    (1, 20]\n",
      "8      92  (80, 100]\n",
      "9      45   (40, 60]\n"
     ]
    }
   ],
   "source": [
    "import pandas as pd\n",
    "import numpy as np\n",
    "df=pd.DataFrame({'number':np.random.randint(1,100,10)})\n",
    "df['bins']=pd.cut(x=df['number'],bins=[1,20,40,60,80,100])\n",
    "print(df)"
   ]
  },
  {
   "cell_type": "code",
   "execution_count": 3,
   "id": "d1e316c7",
   "metadata": {},
   "outputs": [
    {
     "name": "stdout",
     "output_type": "stream",
     "text": [
      "[(80, 100], (20, 40], (1, 20], (40, 60], (60, 80]]\n",
      "Categories (5, interval[int64, right]): [(1, 20] < (20, 40] < (40, 60] < (60, 80] < (80, 100]]\n"
     ]
    }
   ],
   "source": [
    "print(df['bins'].unique())"
   ]
  },
  {
   "cell_type": "code",
   "execution_count": null,
   "id": "f716ced2",
   "metadata": {},
   "outputs": [],
   "source": []
  }
 ],
 "metadata": {
  "kernelspec": {
   "display_name": "Python 3 (ipykernel)",
   "language": "python",
   "name": "python3"
  },
  "language_info": {
   "codemirror_mode": {
    "name": "ipython",
    "version": 3
   },
   "file_extension": ".py",
   "mimetype": "text/x-python",
   "name": "python",
   "nbconvert_exporter": "python",
   "pygments_lexer": "ipython3",
   "version": "3.11.4"
  }
 },
 "nbformat": 4,
 "nbformat_minor": 5
}
