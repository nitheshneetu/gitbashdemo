{
 "cells": [
  {
   "cell_type": "code",
   "execution_count": 1,
   "id": "e4d63dd0",
   "metadata": {},
   "outputs": [],
   "source": [
    "x= lambda a:a+1"
   ]
  },
  {
   "cell_type": "code",
   "execution_count": 2,
   "id": "1a1cada1",
   "metadata": {},
   "outputs": [
    {
     "name": "stdout",
     "output_type": "stream",
     "text": [
      "6\n"
     ]
    }
   ],
   "source": [
    "print(x(5))"
   ]
  },
  {
   "cell_type": "code",
   "execution_count": 5,
   "id": "582a82c3",
   "metadata": {},
   "outputs": [],
   "source": [
    "x=lambda a,b,c:a+b+c"
   ]
  },
  {
   "cell_type": "code",
   "execution_count": 7,
   "id": "86f93c06",
   "metadata": {},
   "outputs": [
    {
     "name": "stdout",
     "output_type": "stream",
     "text": [
      "13\n"
     ]
    }
   ],
   "source": [
    "print(x(5,6,2))"
   ]
  },
  {
   "cell_type": "code",
   "execution_count": null,
   "id": "44a6828d",
   "metadata": {},
   "outputs": [],
   "source": []
  }
 ],
 "metadata": {
  "kernelspec": {
   "display_name": "Python 3 (ipykernel)",
   "language": "python",
   "name": "python3"
  },
  "language_info": {
   "codemirror_mode": {
    "name": "ipython",
    "version": 3
   },
   "file_extension": ".py",
   "mimetype": "text/x-python",
   "name": "python",
   "nbconvert_exporter": "python",
   "pygments_lexer": "ipython3",
   "version": "3.11.4"
  }
 },
 "nbformat": 4,
 "nbformat_minor": 5
}
